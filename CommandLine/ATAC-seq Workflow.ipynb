{
 "cells": [
  {
   "attachments": {},
   "cell_type": "markdown",
   "metadata": {},
   "source": [
    "# ATAC-seq\n",
    "***\n",
    "<img src=\"https://www.illumina.com/content/dam/illumina-marketing/images/tools/sequencing/atac-seq.png\">\n",
    "***\n",
    "<br>**General Workflow**\n",
    "1. [Trim Adapters](#Trim-Adapters)\n",
    "2. [Align to genome (BWA)](#Align-to-genome-with-bwa)\n",
    "3. [Sort and deduplicate reads](#samtools)\n",
    "    <br>a. [Plot fragment length](#Fragment-Length-Distribution)\n",
    "4. [Call peaks with Macs2](#Macs2)\n",
    "    <br>a. [Call peaks with HMMRATAC](#HMMRATAC)\n",
    "\n",
    "\n",
    "**Analysis Options:**\n",
    "5. [featureCounts](#featureCounts) \n",
    "6. [Motif enrichment](#Homer-motif-analysis)\n",
    "7. [Genome Tracks](#UCSC-Tracks)\n",
    "***"
   ]
  },
  {
   "cell_type": "markdown",
   "metadata": {},
   "source": [
    "## <font color=red>Trim Adapters</font>\n",
    "> Trim Galore is a wrapper around Cutadapt and FastQC to consistently apply adapter and quality trimming to FastQ files, with extra functionality for RRBS data. [github page](https://github.com/FelixKrueger/TrimGalore)"
   ]
  },
  {
   "cell_type": "code",
   "execution_count": null,
   "metadata": {},
   "outputs": [],
   "source": [
    "#PBS -l nodes=1:ppn=4\n",
    "#PBS -l walltime=8:00:00\n",
    "\n",
    "for (( i = 490; i <= 525; i++ ));\n",
    "do trim_galore --paired --output_dir ~/scratch/Kaech/ATAC/trimmed/\\\n",
    "~/scratch/Kaech/ATAC/fastq/SRR4435${i}_1.fastq.gz \\\n",
    "~/scratch/Kaech/ATAC/fastq/SRR4435${i}_2.fastq.gz; \n",
    "done"
   ]
  },
  {
   "attachments": {},
   "cell_type": "markdown",
   "metadata": {},
   "source": [
    "__Trim galore version 0.6.0 with cutadapt version 2.3__\n",
    "<br>This version should support multiple cores (10 minute trim to ~ 7 minute trim with 2 cores) but requires Python 3. Additional cores above 2 seem to give no additional benefit.\n",
    "\n",
    "`--path_to_cutadapt ~/anaconda2_/envs/ATAC/bin/cutadapt` if trim_galore can't find where cutadapt is"
   ]
  },
  {
   "cell_type": "code",
   "execution_count": null,
   "metadata": {},
   "outputs": [],
   "source": [
    "trim_galore --paired -o nextera/ --nextera 1.fastq.gz 2.fastq.gz"
   ]
  },
  {
   "cell_type": "markdown",
   "metadata": {},
   "source": [
    "## <font color=red>Align to genome with bwa</font>\n",
    "**This takes a decent amount of time. If possible, use lots of threads**\n",
    "<br>**Remember to assemble a genome first (mm10.fa)**\n",
    "\n",
    "bwa mem -t [INT] mm10.fa read1.fq.gz read2.fq.gz > sample.sam\n",
    "<br>`-t` number of threads"
   ]
  },
  {
   "cell_type": "code",
   "execution_count": null,
   "metadata": {},
   "outputs": [],
   "source": [
    "#PBS -l nodes=1:ppn=8\n",
    "#PBS -l walltime=12:00:00\n",
    "\n",
    "module load bwa\n",
    "\n",
    "for (( i = 490; i <= 525; i++ ));\n",
    "do bwa mem -t 8 path/to/mm10.fa \\\n",
    "~/scratch/Kaech/ATAC/trimmed/SRR4435${i}_1_val_1.fq.gz \\\n",
    "~/scratch/Kaech/ATAC/trimmed/SRR4435${i}_2_val_2.fq.gz > ~/scratch/Kaech/ATAC/bwa/SRR4435${i}.sam;\n",
    "done"
   ]
  },
  {
   "cell_type": "markdown",
   "metadata": {},
   "source": [
    "## <font color=red>samtools</font>\n",
    "> This formats the aligned reads into a useable format for downstream applications (use version 1.9+, or else markdups will not work)\n",
    "\n",
    "\n",
    "__`view`: Convert SAM to BAM__ (-b output in BAM; -u output in uncompressed BAM; -h include header in output; -f Only output alignments with all bits set in INT present in the FLAG field; -F Do not output alignments with any bits set in INT present in the FLAG field; -q Skip alignments with MAPQ smaller than INT)\n",
    "> samtools view [options] in.sam|in.bam|in.cram [region...]\n",
    "\n",
    " __`fixmate`: Fill in mate coordinates, ISIZE and mate related flags from a name-sorted alignment.__ (-m adds ms (mate score) tags. These are used by markdup to select the best reads to keep.)\n",
    "> samtools fixmate [-rpcm] [-O format] in.nameSrt.bam out.bam\n",
    "\n",
    " __`sort`: Sort alignments by leftmost coordinates, or by read name when -n is used. An appropriate @HD-SO sort order header tag will be added or an existing one updated if necessary. __(-m Approximately the maximum required memory per thread, specified either in bytes or with a K, M, or G suffix)\n",
    "> samtools sort [-l level] [-m maxMem] [-o out.bam] [-O format] [-n] [-t tag] [-T tmpprefix] [-@ threads] [in.sam|in.bam|in.cram]\n",
    "\n",
    " __`markdup`: Mark duplicate alignments from a coordinate sorted file that has been run through fixmate with the -m option. This program relies on the MC and ms tags that fixmate provides. __(-r removes duplicate reads)\n",
    "> samtools markdup [-l length] [-r] [-s] [-T] [-S] in.algsort.bam out.bam"
   ]
  },
  {
   "cell_type": "code",
   "execution_count": null,
   "metadata": {},
   "outputs": [],
   "source": [
    "#nodes=1:ppn=8\n",
    "\n",
    "for (( i = 490; i <= 525; i++));\n",
    "do samtools view -@ 8 -b -u -h -f 3 -F 256 -F 2048 -q 30 ~/scratch/Kaech/ATAC/bwa/SRR4435${i}.sam \\\n",
    "| samtools fixmate -m - -  \\\n",
    "| samtools sort -m 4G -@ 8 - \\\n",
    "| samtools markdup -r - ~/scratch/Kaech/ATAC/bwa/SRR4435${i}.nodup.bam;\n",
    "done"
   ]
  },
  {
   "cell_type": "markdown",
   "metadata": {},
   "source": [
    "## <font color=red>Extract nucleosome-free regions (<100bp)</font>\n",
    "\n",
    ">This command preserves both ends of reads with fragments < 100bp\n",
    "    \n",
    "awk `'$1 ~ /^@/'` finds rows that contain '^@' in the first column    \n",
    "I think `'$1 ~ /^@/'` preserves the header, since `-h` includes the header in the output. \n",
    "<br>`||` is the awk `OR` command; `&&` is the awk `AND` command"
   ]
  },
  {
   "cell_type": "code",
   "execution_count": null,
   "metadata": {},
   "outputs": [],
   "source": [
    "samtools view -h sorted.bam | awk '$9>-100 && $9<100 || $1 ~ /^@/' | samtools view -bS - > sorted.nfr.bam"
   ]
  },
  {
   "cell_type": "markdown",
   "metadata": {},
   "source": [
    "## <font color=red>Fragment Length Distribution</font>\n",
    "\n",
    ">[Code Info Here](https://dbrg77.wordpress.com/2017/02/10/atac-seq-insert-size-plotting/)\n",
    "\n",
    "**samtools view sorted.bam** | #stream reads<br>\n",
    "**awk '$9>0'** | #output reads with positive fragment length, i.e. left-most reads<br>\n",
    "**cut -f 9** | #get the fragment length<br>\n",
    "**sort | uniq -c** | #count the occurrence of each fragment length<br>\n",
    "**sort -b -k2,2n** | #sort based on fragment length<br>\n",
    "**sed -e 's/^[ \\t]*//'** #remove leading blank of the standard output\n",
    "\n",
    "`Use R to plot the output .txt`"
   ]
  },
  {
   "cell_type": "code",
   "execution_count": null,
   "metadata": {},
   "outputs": [],
   "source": [
    "samtools index -b sorted.bam\n",
    "\n",
    "samtools view sorted.bam | awk '$9>0' | cut -f 9 | sort | uniq -c | \\\n",
    "sort -b -k2,2n | sed -e 's/^[ \\t]*//' > fragment_length_count.txt"
   ]
  },
  {
   "cell_type": "markdown",
   "metadata": {},
   "source": [
    "## <font color=red>Macs2</font>\n",
    "\n",
    "> Call peaks using Macs2\n",
    "\n",
    "You can call peaks from individual bams, or multiple bam files simultaneously as follows. --nomodel tells macs2 not to treat the sample as ChIP-seq, which requires a specific shifting model.\n",
    "\n",
    "`Strategy 1:` Call peaks from merged bams from each group. This defeats the purpose of having replicates, because it just merges all the bam files into one.\n",
    "<br>`Strategy 2:` Call peaks from individual bam files, and then use `bedtools intersect` to find the peaks that are overlapped by each replicate in each group\n",
    "<br><br> `-q` FDR (default 0.05)"
   ]
  },
  {
   "cell_type": "code",
   "execution_count": null,
   "metadata": {},
   "outputs": [],
   "source": [
    "macs2 callpeak -t bam1 bam2 bam3 -n OutputFolderName --outdir /path/ -g mm --nomodel --shift -100 --extsize 200"
   ]
  },
  {
   "cell_type": "code",
   "execution_count": null,
   "metadata": {},
   "outputs": [],
   "source": [
    "macs2 callpeak -t bam -n OutputFolderName --outdir /path/ -g mm --nomodel --shift -100 --extsize 200"
   ]
  },
  {
   "cell_type": "code",
   "execution_count": null,
   "metadata": {},
   "outputs": [],
   "source": [
    "bedtools intersect -a rep1.narrowPeak -b rep2.narrowPeak -f 0.50 -r \\\n",
    "| bedtools intersect -a - -b rep3.narrowPeak -f 0.50 -r \\\n",
    "| grep \"chr\" > overlap.narrowPeak"
   ]
  },
  {
   "cell_type": "markdown",
   "metadata": {},
   "source": [
    "__From Macs2 output, identify:__<br> 1. peaks that are unique to one experimental condition (specific.bed), and take only the first 4 columns of the bed file.\n",
    "<br>2. \"background\" peaks from the same experimental condition, and take only the first 4 columns"
   ]
  },
  {
   "cell_type": "code",
   "execution_count": null,
   "metadata": {},
   "outputs": [],
   "source": [
    "bedtools intersect -a experimental_peaks.narrowPeak \\\n",
    "-b comparator_peaks.narrowPeak -v | cut -f 1-4 | grep \"chr\" \\\n",
    "> experimental_specific.bed\n",
    "# -v takes the NON-overlap. essentially the same as bedtools subtract\n",
    "\n",
    "cut -f 1-4 experimental_peaks.narrowPeak | grep \"chr\" > experimental_background.bed"
   ]
  },
  {
   "cell_type": "markdown",
   "metadata": {},
   "source": [
    "#### Use the specific and background .bed files as input for [GREAT](http://great.stanford.edu/public/html/)"
   ]
  },
  {
   "cell_type": "markdown",
   "metadata": {},
   "source": [
    "## <font color=red>HMMRATAC</font>\n",
    "\n",
    "> Call peaks using [HMMRATAC (Hidden Markov ModeleR)](https://github.com/LiuLabUB/HMMRATAC). Download the software first.\n",
    "\n"
   ]
  },
  {
   "cell_type": "code",
   "execution_count": null,
   "metadata": {},
   "outputs": [],
   "source": [
    "#First need to make sure the bam only contains paired and successfully pair-matched reads\n",
    "# -f 3 tells samtools to take the reads that are paired (INT = 1) and matched pairs (INT = 2). INT = 1+2=3\n",
    "samtools view -b -f 3 sorted.bam > sorted.mapped.bam\n",
    "\n",
    "#(Optional) For merged replicates, use samtools to merge multiple bams before proceeding to HMMRATAC\n",
    "samtools merge -n merged.bam sorted.mapped.1.bam...sorted.mapped.n.bam\n",
    "\n",
    "#Generate a file with genome info (chromosomes and their respective lengths). \n",
    "#This can be done using any of the bam files\n",
    "samtools view -H sorted.mapped.bam | perl -ne 'if(/^@SQ.*?SN:(\\w+)\\s+LN:(\\d+)/){print $1,\"\\t\",$2,\"\\n\"}' > genome.info\n",
    "\n",
    "#Run HMMRATAC\n",
    "java -jar HMMRATAC_V1.2.4_exe.jar -b sorted.mapped.bam -i sorted.mapped.bam.bai -g genome.info"
   ]
  },
  {
   "cell_type": "markdown",
   "metadata": {},
   "source": [
    "## <font color=red>featureCounts</font>\n",
    "\n",
    ">After calling peaks from all samples, create a reference library of all possible peak regions in the data set. Then assign all of the reads from all .bam files to peaks to obtain read counts. This can be used as input in DESeq2.\n"
   ]
  },
  {
   "cell_type": "code",
   "execution_count": null,
   "metadata": {},
   "outputs": [],
   "source": [
    "#Create a .saf file (a reference list of all peaks); \n",
    "#to be used by featureCounts in lieu of a .gtf reference file\n",
    "#this file requires a header line (PeakID, Chr, etc.)\n",
    "\n",
    "cat *peaks.narrowPeak | grep \"chr\" | sort -k1,1 -k2,2n | bedtools merge -i - | awk \\\n",
    "    'BEGIN{OFS=\"\\t\";print \"PeakID\", \"Chr\", \"Start\", \"End\", \"Strand\"}\\\n",
    "    {OFS=\"\\t\";print \"Peak_\"NR, $1, $2, $3, \".\"}' merged.bed > merged.saf"
   ]
  },
  {
   "cell_type": "markdown",
   "metadata": {},
   "source": [
    "`-a` annotation file\n",
    "<br>\n",
    "`-p` count fragments instead of reads. Appropriate for paired-end only"
   ]
  },
  {
   "cell_type": "code",
   "execution_count": null,
   "metadata": {},
   "outputs": [],
   "source": [
    "featureCounts -a merged.saf -F SAF -T 4 -p -o counts_output.txt *.bam"
   ]
  },
  {
   "cell_type": "markdown",
   "metadata": {},
   "source": [
    "## <font color=red>Homer motif analysis</font>\n",
    "\n",
    ">[**HOMER**](http://homer.ucsd.edu/homer/index.html) analyzes genomic positions for enriched motifs.  The main idea is that all the user really needs is a file containing genomic coordinates (i.e. a HOMER peak file or  BED file), and HOMER will generally take care of the rest.  To analyze a peak file for motifs, run the following command:\n",
    "\n",
    "`findMotifsGenome.pl <peak/BED file> <genome> <output directory> -size # [options]`\n",
    "<br>\n",
    "\n",
    "To assign peaks to genes:<br>\n",
    "`annotatePeaks.pl <peak/BED file> <genome> > <output file>`"
   ]
  },
  {
   "cell_type": "code",
   "execution_count": null,
   "metadata": {},
   "outputs": [],
   "source": [
    "#nodes=1:ppn=8\n",
    "\n",
    "findMotifsGenome.pl experimental_specific.bed mm10 outputDirectoryName -bg \\\n",
    "experimental_background.bed -size 200 -nomotif -bits -mset vertebrates -p 8"
   ]
  },
  {
   "cell_type": "code",
   "execution_count": null,
   "metadata": {},
   "outputs": [],
   "source": [
    "annotatePeaks.pl experimental_specific.bed mm10 | sort -k 2 > experimental.annotated.txt"
   ]
  },
  {
   "cell_type": "markdown",
   "metadata": {},
   "source": [
    "## <font color=red>UCSC Tracks</font>\n",
    ">Make browser tracks so you can visualize the data in IGV or UCSC genome browser\n",
    "\n",
    " __makeTagDirectory__ basically parses through the alignment file and splits the tags into separate files based on their chromosome.  As a result, several *.tags.tsv files are created in the output directory.  These are made to very efficiently return to the data during downstream analysis.  This also helps speed up the analysis of very large data sets without running out of memory.\n",
    "<br> __makeUCSCfile__ takes the tag directory and generate the track files for IGV or UCSC genome browser"
   ]
  },
  {
   "cell_type": "code",
   "execution_count": null,
   "metadata": {},
   "outputs": [],
   "source": [
    "for (( i=493; i<=525; i++)); \n",
    "do makeTagDirectory ~/scratch/Kaech/ATAC/SRR4435${i} bams/SRR4435${i}.nodup.bam -format bed; \n",
    "done"
   ]
  },
  {
   "cell_type": "code",
   "execution_count": null,
   "metadata": {},
   "outputs": [],
   "source": [
    "for dir in SRR4435*;\n",
    "do makeUCSCfile $dir -o auto;\n",
    "done"
   ]
  }
 ],
 "metadata": {
  "kernelspec": {
   "display_name": "R",
   "language": "R",
   "name": "ir"
  },
  "language_info": {
   "codemirror_mode": "r",
   "file_extension": ".r",
   "mimetype": "text/x-r-source",
   "name": "R",
   "pygments_lexer": "r",
   "version": "3.5.0"
  }
 },
 "nbformat": 4,
 "nbformat_minor": 2
}
